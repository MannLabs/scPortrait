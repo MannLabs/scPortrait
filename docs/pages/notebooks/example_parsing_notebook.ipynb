{
 "cells": [
  {
   "cell_type": "markdown",
   "id": "6fc618c5",
   "metadata": {},
   "source": [
    "# Automatically parse image files from Opera Phenix imaging experiments"
   ]
  },
  {
   "cell_type": "code",
   "execution_count": 1,
   "id": "9f0c563a-3f1b-4b1c-8738-1b29c4a94375",
   "metadata": {},
   "outputs": [],
   "source": [
    "import os\n",
    "from scportrait.tools.parse import PhenixParser"
   ]
  },
  {
   "cell_type": "code",
   "execution_count": 3,
   "id": "97859949-245f-4411-b696-35984d0de19f",
   "metadata": {},
   "outputs": [],
   "source": [
    "input_dir = \"path/to/phenix/experiment\"  # do not need to go to the image directory, the main directory is sufficient"
   ]
  },
  {
   "cell_type": "code",
   "execution_count": 3,
   "id": "7345cbce-c335-4ef3-9188-b7fe5b751292",
   "metadata": {},
   "outputs": [
    {
     "name": "stdout",
     "output_type": "stream",
     "text": [
      "Beginning Parsing\n",
      "Experiment contains the following image channels: \n",
      "  id         label\n",
      "0  1      Alexa647\n",
      "1  2       mCherry\n",
      "2  3  HOECHST33342\n",
      "3  4   Brightfield \n",
      "\n",
      "Channel Lookup table saved to file at /fs/pool/pool-mann-projects/Thierry_N/ForPeople/SophiaMaedler/A375wm40_cc14_ctrl1_tmt1o3_20240525/channel_lookuptable.csv\n",
      "\n",
      "Starting copy process...\n"
     ]
    },
    {
     "name": "stderr",
     "output_type": "stream",
     "text": [
      "Copying files: 100%|██████████| 35392/35392 [00:03<00:00, 9012.68it/s]\n"
     ]
    },
    {
     "name": "stdout",
     "output_type": "stream",
     "text": [
      "Copy process completed.\n",
      "Checking for missing images...\n",
      "No missing tiles found.\n",
      "Metadata used to parse images saved to file /fs/pool/pool-mann-projects/Thierry_N/ForPeople/SophiaMaedler/A375wm40_cc14_ctrl1_tmt1o3_20240525/metadata_image_parsing.csv\n",
      "Parsing completed.\n"
     ]
    }
   ],
   "source": [
    "print(\"Beginning Parsing\")\n",
    "parser = PhenixParser(input_dir)\n",
    "parser.parse()\n",
    "print(\"Parsing completed.\")"
   ]
  }
 ],
 "metadata": {
  "kernelspec": {
   "display_name": "scportrait_new",
   "language": "python",
   "name": "python3"
  },
  "language_info": {
   "codemirror_mode": {
    "name": "ipython",
    "version": 3
   },
   "file_extension": ".py",
   "mimetype": "text/x-python",
   "name": "python",
   "nbconvert_exporter": "python",
   "pygments_lexer": "ipython3",
   "version": "3.10.0"
  }
 },
 "nbformat": 4,
 "nbformat_minor": 5
}
