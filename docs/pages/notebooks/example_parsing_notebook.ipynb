{
 "cells": [
  {
   "cell_type": "markdown",
   "id": "6fc618c5",
   "metadata": {},
   "source": [
    "# Automatically parse image files from Opera Phenix imaging experiments"
   ]
  },
  {
   "cell_type": "code",
   "execution_count": 1,
   "id": "9f0c563a-3f1b-4b1c-8738-1b29c4a94375",
   "metadata": {},
   "outputs": [],
   "source": [
    "from scportrait.tools.parse import PhenixParser\n",
    "from scportrait.data._datasets import dataset_parsing_example_flatfield_corrected"
   ]
  },
  {
   "cell_type": "code",
   "execution_count": 2,
   "id": "97859949-245f-4411-b696-35984d0de19f",
   "metadata": {},
   "outputs": [],
   "source": [
    "input_dir = (\n",
    "    dataset_parsing_example_flatfield_corrected()\n",
    ")  # do not need to go to the image directory, the main directory is sufficient"
   ]
  },
  {
   "cell_type": "code",
   "execution_count": 3,
   "id": "7345cbce-c335-4ef3-9188-b7fe5b751292",
   "metadata": {},
   "outputs": [
    {
     "name": "stdout",
     "output_type": "stream",
     "text": [
      "Beginning Parsing\n",
      "Experiment contains the following image channels: \n",
      "  id         label\n",
      "0  1  HOECHST33342\n",
      "1  2      Alexa488 \n",
      "\n",
      "Channel Lookup table saved to file at /Users/sophia/Documents/GitHub/scPortrait/src/scportrait/scportrait_data/parsing_example_flatfield/flat_field_corrected/channel_lookuptable.csv\n",
      "\n",
      "Parsing XML file from HarmonyV7 version.\n",
      "Starting copy process...\n"
     ]
    },
    {
     "data": {
      "application/vnd.jupyter.widget-view+json": {
       "model_id": "e7961c2d6c7545a195325a1bfeb0db85",
       "version_major": 2,
       "version_minor": 0
      },
      "text/plain": [
       "Copying files:   0%|          | 0/32 [00:00<?, ?it/s]"
      ]
     },
     "metadata": {},
     "output_type": "display_data"
    },
    {
     "name": "stdout",
     "output_type": "stream",
     "text": [
      "Copy process completed.\n",
      "Checking for missing images...\n",
      "No missing tiles found.\n",
      "Metadata used to parse images saved to file /Users/sophia/Documents/GitHub/scPortrait/src/scportrait/scportrait_data/parsing_example_flatfield/flat_field_corrected/metadata_image_parsing.csv\n",
      "Parsing completed.\n"
     ]
    }
   ],
   "source": [
    "print(\"Beginning Parsing\")\n",
    "parser = PhenixParser(input_dir, overwrite=True)\n",
    "parser.parse()\n",
    "print(\"Parsing completed.\")"
   ]
  }
 ],
 "metadata": {
  "kernelspec": {
   "display_name": "scPortrait_dev",
   "language": "python",
   "name": "python3"
  },
  "language_info": {
   "codemirror_mode": {
    "name": "ipython",
    "version": 3
   },
   "file_extension": ".py",
   "mimetype": "text/x-python",
   "name": "python",
   "nbconvert_exporter": "python",
   "pygments_lexer": "ipython3",
   "version": "3.11.0"
  }
 },
 "nbformat": 4,
 "nbformat_minor": 5
}
